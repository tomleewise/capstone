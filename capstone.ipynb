{
 "cells": [
  {
   "cell_type": "code",
   "execution_count": 16,
   "metadata": {},
   "outputs": [],
   "source": [
    "import pandas as pd\n",
    "import matplotlib.pyplot as plt\n",
    "import seaborn as sns\n",
    "import numpy as np\n",
    "import plotly.graph_objs as go\n",
    "%matplotlib inline\n",
    "import re\n",
    "from bs4 import BeautifulSoup  \n",
    "import requests\n",
    "from urllib.request import Request, urlopen\n",
    "import config \n",
    "from twython import Twython, TwythonError\n",
    "import json\n",
    "from furl import furl\n",
    "from math import ceil\n",
    "\n"
   ]
  },
  {
   "cell_type": "code",
   "execution_count": 17,
   "metadata": {
    "scrolled": true
   },
   "outputs": [],
   "source": [
    "import spotipy #Spotify web API\n",
    "import spotipy.oauth2 as oauth2\n",
    "\n",
    "from spotipy.oauth2 import SpotifyClientCredentials\n",
    "import time"
   ]
  },
  {
   "cell_type": "code",
   "execution_count": 18,
   "metadata": {},
   "outputs": [],
   "source": [
    "api_key = '3672c307399f45f9adc781377baf3905'\n",
    "api_secret = 'dfd66053513a4bb9aa9e4bf6b9010b03'"
   ]
  },
  {
   "cell_type": "code",
   "execution_count": 19,
   "metadata": {},
   "outputs": [],
   "source": [
    "#Authenticate and connect to Spotify API\n",
    "cid = 'api_key'\n",
    "secret = 'api_secret'\n",
    "client_credentials_manager = SpotifyClientCredentials(client_id=cid, client_secret=secret)\n",
    "sp = spotipy.Spotify(client_credentials_manager\n",
    "=\n",
    "client_credentials_manager)\n"
   ]
  },
  {
   "cell_type": "code",
   "execution_count": 20,
   "metadata": {},
   "outputs": [],
   "source": [
    "#Begin webscrapping RIAA data\n",
    "website_url = 'https://www.riaa.com/gold-platinum/?advance_search=1&tab_active=awards_by_album&awardal=&formatal=Album&typeal=&type_optional=ST#search_section'\n",
    "\n",
    "req = Request(website_url, headers ={'User-Agent': 'Mozilla/5.0'})\n",
    "\n",
    "webpage = urlopen(req).read()"
   ]
  },
  {
   "cell_type": "code",
   "execution_count": 21,
   "metadata": {},
   "outputs": [],
   "source": [
    "#Make a soup\n",
    "page_soup = BeautifulSoup(webpage, 'html.parser')"
   ]
  },
  {
   "cell_type": "code",
   "execution_count": null,
   "metadata": {},
   "outputs": [],
   "source": []
  }
 ],
 "metadata": {
  "kernelspec": {
   "display_name": "Python 3",
   "language": "python",
   "name": "python3"
  },
  "language_info": {
   "codemirror_mode": {
    "name": "ipython",
    "version": 3
   },
   "file_extension": ".py",
   "mimetype": "text/x-python",
   "name": "python",
   "nbconvert_exporter": "python",
   "pygments_lexer": "ipython3",
   "version": "3.8.5"
  }
 },
 "nbformat": 4,
 "nbformat_minor": 4
}
