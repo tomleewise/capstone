{
 "cells": [
  {
   "cell_type": "code",
   "execution_count": 1,
   "metadata": {},
   "outputs": [],
   "source": [
    "import pandas as pd\n",
    "import matplotlib.pyplot as plt\n",
    "import seaborn as sns\n",
    "import numpy as np\n",
    "import plotly.graph_objs as go\n",
    "%matplotlib inline\n",
    "import re\n",
    "from bs4 import BeautifulSoup  \n",
    "import requests\n",
    "from urllib.request import Request, urlopen\n",
    "import config \n",
    "from twython import Twython, TwythonError\n",
    "import json\n",
    "from furl import furl\n",
    "from math import ceil"
   ]
  },
  {
   "cell_type": "code",
   "execution_count": 2,
   "metadata": {},
   "outputs": [],
   "source": [
    "import spotipy #Spotify web API\n",
    "import spotipy.oauth2 as oauth2\n",
    "from spotipy.oauth2 import SpotifyOAuth \n",
    "from spotipy.oauth2 import SpotifyClientCredentials\n",
    "import time"
   ]
  },
  {
   "cell_type": "code",
   "execution_count": 4,
   "metadata": {},
   "outputs": [
    {
     "data": {
      "text/plain": [
       "{'external_urls': {'spotify': 'https://open.spotify.com/artist/0ECwFtbIWEVNwjlrfc6xoL'},\n",
       " 'followers': {'href': None, 'total': 7375458},\n",
       " 'genres': ['album rock',\n",
       "  'classic rock',\n",
       "  'country rock',\n",
       "  'folk rock',\n",
       "  'heartland rock',\n",
       "  'mellow gold',\n",
       "  'rock',\n",
       "  'soft rock',\n",
       "  'yacht rock'],\n",
       " 'href': 'https://api.spotify.com/v1/artists/0ECwFtbIWEVNwjlrfc6xoL',\n",
       " 'id': '0ECwFtbIWEVNwjlrfc6xoL',\n",
       " 'images': [{'height': 640,\n",
       "   'url': 'https://i.scdn.co/image/ab6761610000e5eb0767e116a2307495e37cd7fb',\n",
       "   'width': 640},\n",
       "  {'height': 320,\n",
       "   'url': 'https://i.scdn.co/image/ab676161000051740767e116a2307495e37cd7fb',\n",
       "   'width': 320},\n",
       "  {'height': 160,\n",
       "   'url': 'https://i.scdn.co/image/ab6761610000f1780767e116a2307495e37cd7fb',\n",
       "   'width': 160}],\n",
       " 'name': 'Eagles',\n",
       " 'popularity': 78,\n",
       " 'type': 'artist',\n",
       " 'uri': 'spotify:artist:0ECwFtbIWEVNwjlrfc6xoL'}"
      ]
     },
     "execution_count": 4,
     "metadata": {},
     "output_type": "execute_result"
    }
   ],
   "source": [
    "#Try to pull in the Eagles artist info as a test\n",
    "sp = spotipy.Spotify(auth_manager=auth_manager)\n",
    "artist_info = 'spotify:artist:0ECwFtbIWEVNwjlrfc6xoL'\n",
    "\n",
    "artist = sp.artist(artist_info)\n",
    "artist"
   ]
  },
  {
   "cell_type": "code",
   "execution_count": 5,
   "metadata": {},
   "outputs": [
    {
     "name": "stdout",
     "output_type": "stream",
     "text": [
      "Live From The Forum MMXVIII\n",
      "Long Road out of Eden\n",
      "Long Road Out Of Eden\n",
      "Hell Freezes Over (Remaster 2018)\n",
      "Eagles Live\n",
      "The Long Run (2013 Remaster)\n",
      "Hotel California (2013 Remaster)\n",
      "Hotel California (40th Anniversary Expanded Edition)\n",
      "One of These Nights (2013 Remaster)\n",
      "On the Border (2013 Remaster)\n",
      "Desperado (2013 Remaster)\n",
      "Eagles (2013 Remaster)\n"
     ]
    }
   ],
   "source": [
    "#Pull artist's album info test\n",
    "the_eagles = 'spotify:artist:0ECwFtbIWEVNwjlrfc6xoL'\n",
    "sp = spotipy.Spotify(auth_manager=auth_manager)\n",
    "\n",
    "results = sp.artist_albums(the_eagles, album_type='album')\n",
    "albums = results['items']\n",
    "while results['next']:\n",
    "    results = spotify.next(results)\n",
    "    albums.extend(results['items'])\n",
    "    \n",
    "for album in albums:\n",
    "    print(album['name'])\n",
    "\n"
   ]
  },
  {
   "cell_type": "code",
   "execution_count": null,
   "metadata": {},
   "outputs": [],
   "source": []
  }
 ],
 "metadata": {
  "kernelspec": {
   "display_name": "Python 3",
   "language": "python",
   "name": "python3"
  },
  "language_info": {
   "codemirror_mode": {
    "name": "ipython",
    "version": 3
   },
   "file_extension": ".py",
   "mimetype": "text/x-python",
   "name": "python",
   "nbconvert_exporter": "python",
   "pygments_lexer": "ipython3",
   "version": "3.8.5"
  }
 },
 "nbformat": 4,
 "nbformat_minor": 4
}
