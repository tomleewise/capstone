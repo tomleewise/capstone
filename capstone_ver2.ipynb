{
 "cells": [
  {
   "cell_type": "code",
   "execution_count": 1,
   "metadata": {},
   "outputs": [],
   "source": [
    "import pandas as pd\n",
    "import matplotlib.pyplot as plt\n",
    "import seaborn as sns\n",
    "import numpy as np\n",
    "import plotly.graph_objs as go\n",
    "%matplotlib inline\n",
    "import re\n",
    "from bs4 import BeautifulSoup  \n",
    "import requests\n",
    "from urllib.request import Request, urlopen\n",
    "import config \n",
    "from twython import Twython, TwythonError\n",
    "import json\n",
    "from furl import furl\n",
    "from math import ceil"
   ]
  },
  {
   "cell_type": "code",
   "execution_count": 2,
   "metadata": {},
   "outputs": [],
   "source": [
    "import spotipy #Spotify web API\n",
    "import spotipy.oauth2 as oauth2\n",
    "from spotipy.oauth2 import SpotifyOAuth \n",
    "from spotipy.oauth2 import SpotifyClientCredentials\n",
    "import time"
   ]
  },
  {
   "cell_type": "code",
   "execution_count": null,
   "metadata": {},
   "outputs": [],
   "source": []
  },
  {
   "cell_type": "code",
   "execution_count": 4,
   "metadata": {},
   "outputs": [
    {
     "data": {
      "text/plain": [
       "{'external_urls': {'spotify': 'https://open.spotify.com/artist/0ECwFtbIWEVNwjlrfc6xoL'},\n",
       " 'followers': {'href': None, 'total': 7375458},\n",
       " 'genres': ['album rock',\n",
       "  'classic rock',\n",
       "  'country rock',\n",
       "  'folk rock',\n",
       "  'heartland rock',\n",
       "  'mellow gold',\n",
       "  'rock',\n",
       "  'soft rock',\n",
       "  'yacht rock'],\n",
       " 'href': 'https://api.spotify.com/v1/artists/0ECwFtbIWEVNwjlrfc6xoL',\n",
       " 'id': '0ECwFtbIWEVNwjlrfc6xoL',\n",
       " 'images': [{'height': 640,\n",
       "   'url': 'https://i.scdn.co/image/ab6761610000e5eb0767e116a2307495e37cd7fb',\n",
       "   'width': 640},\n",
       "  {'height': 320,\n",
       "   'url': 'https://i.scdn.co/image/ab676161000051740767e116a2307495e37cd7fb',\n",
       "   'width': 320},\n",
       "  {'height': 160,\n",
       "   'url': 'https://i.scdn.co/image/ab6761610000f1780767e116a2307495e37cd7fb',\n",
       "   'width': 160}],\n",
       " 'name': 'Eagles',\n",
       " 'popularity': 78,\n",
       " 'type': 'artist',\n",
       " 'uri': 'spotify:artist:0ECwFtbIWEVNwjlrfc6xoL'}"
      ]
     },
     "execution_count": 4,
     "metadata": {},
     "output_type": "execute_result"
    }
   ],
   "source": [
    "#Try to pull in the Eagles artist info as a test\n",
    "sp = spotipy.Spotify(auth_manager=auth_manager)\n",
    "artist_info = 'spotify:artist:0ECwFtbIWEVNwjlrfc6xoL'\n",
    "\n",
    "artist = sp.artist(artist_info)\n",
    "artist"
   ]
  },
  {
   "cell_type": "code",
   "execution_count": 5,
   "metadata": {},
   "outputs": [
    {
     "name": "stdout",
     "output_type": "stream",
     "text": [
      "Live From The Forum MMXVIII\n",
      "Long Road out of Eden\n",
      "Long Road Out Of Eden\n",
      "Hell Freezes Over (Remaster 2018)\n",
      "Eagles Live\n",
      "The Long Run (2013 Remaster)\n",
      "Hotel California (2013 Remaster)\n",
      "Hotel California (40th Anniversary Expanded Edition)\n",
      "One of These Nights (2013 Remaster)\n",
      "On the Border (2013 Remaster)\n",
      "Desperado (2013 Remaster)\n",
      "Eagles (2013 Remaster)\n"
     ]
    }
   ],
   "source": [
    "#Pull artist's album info test\n",
    "the_eagles = 'spotify:artist:0ECwFtbIWEVNwjlrfc6xoL'\n",
    "sp = spotipy.Spotify(auth_manager=auth_manager)\n",
    "\n",
    "results = sp.artist_albums(the_eagles, album_type='album')\n",
    "albums = results['items']\n",
    "while results['next']:\n",
    "    results = spotify.next(results)\n",
    "    albums.extend(results['items'])\n",
    "    \n",
    "for album in albums:\n",
    "    print(album['name'])\n",
    "\n"
   ]
  },
  {
   "cell_type": "code",
   "execution_count": 9,
   "metadata": {},
   "outputs": [
    {
     "name": "stdout",
     "output_type": "stream",
     "text": [
      "track    : Hotel California - 2013 Remaster\n",
      "cover art: https://i.scdn.co/image/ab67616d0000b2734637341b9f507521afa9a778\n",
      "\n",
      "track    : Take It Easy - 2013 Remaster\n",
      "cover art: https://i.scdn.co/image/ab67616d0000b273c13acd642ba9f6f5f127aa1b\n",
      "\n",
      "track    : Please Come Home for Christmas - 2013 Remaster\n",
      "cover art: https://i.scdn.co/image/ab67616d0000b2736d4362a2b2e39422000f8ed3\n",
      "\n",
      "track    : Life in the Fast Lane - 2013 Remaster\n",
      "cover art: https://i.scdn.co/image/ab67616d0000b2734637341b9f507521afa9a778\n",
      "\n",
      "track    : One of These Nights - 2013 Remaster\n",
      "cover art: https://i.scdn.co/image/ab67616d0000b2735d0a8e54aba5181c79593b94\n",
      "\n"
     ]
    }
   ],
   "source": [
    "#Pull all top tracks, cover art for the Eagles\n",
    "eagles_top_tracks = 'spotify:artist:0ECwFtbIWEVNwjlrfc6xoL'\n",
    "\n",
    "sp = spotipy.Spotify(auth_manager=auth_manager)\n",
    "results = sp.artist_top_tracks(eagles_top_tracks, country = 'US')\n",
    "\n",
    "for track in results['tracks'][:5]:\n",
    "    print('track    : ' + track['name'])\n",
    "    print('cover art: ' + track['album']['images'][0]['url'])\n",
    "    print()"
   ]
  },
  {
   "cell_type": "code",
   "execution_count": 10,
   "metadata": {},
   "outputs": [
    {
     "data": {
      "text/plain": [
       "[{'danceability': 0.579,\n",
       "  'energy': 0.508,\n",
       "  'key': 2,\n",
       "  'loudness': -9.484,\n",
       "  'mode': 1,\n",
       "  'speechiness': 0.027,\n",
       "  'acousticness': 0.00574,\n",
       "  'instrumentalness': 0.000494,\n",
       "  'liveness': 0.0575,\n",
       "  'valence': 0.609,\n",
       "  'tempo': 147.125,\n",
       "  'type': 'audio_features',\n",
       "  'id': '40riOy7x9W7GXjyGp4pjAv',\n",
       "  'uri': 'spotify:track:40riOy7x9W7GXjyGp4pjAv',\n",
       "  'track_href': 'https://api.spotify.com/v1/tracks/40riOy7x9W7GXjyGp4pjAv',\n",
       "  'analysis_url': 'https://api.spotify.com/v1/audio-analysis/40riOy7x9W7GXjyGp4pjAv',\n",
       "  'duration_ms': 391376,\n",
       "  'time_signature': 4}]"
      ]
     },
     "execution_count": 10,
     "metadata": {},
     "output_type": "execute_result"
    }
   ],
   "source": [
    "#Get the audio features of 'Hotel California'\n",
    "sp.audio_features('spotify:track:40riOy7x9W7GXjyGp4pjAv')"
   ]
  },
  {
   "cell_type": "code",
   "execution_count": 12,
   "metadata": {},
   "outputs": [
    {
     "data": {
      "text/plain": [
       "['Hotel California - 2013 Remaster',\n",
       " 'Hotel California (2013 Remaster)',\n",
       " 'Eagles',\n",
       " '1976-12-08',\n",
       " 391376,\n",
       " 83,\n",
       " 0.00574,\n",
       " 0.579,\n",
       " 0.508,\n",
       " 0.000494,\n",
       " 0.0575,\n",
       " -9.484,\n",
       " 0.027,\n",
       " 147.125,\n",
       " 4]"
      ]
     },
     "execution_count": 12,
     "metadata": {},
     "output_type": "execute_result"
    }
   ],
   "source": [
    "#Get the audio features along with artist/album info\n",
    "track_info = sp.track('spotify:track:40riOy7x9W7GXjyGp4pjAv')\n",
    "track_features = sp.audio_features('spotify:track:40riOy7x9W7GXjyGp4pjAv')\n",
    "\n",
    "name = track_info['name']\n",
    "album = track_info['album']['name']\n",
    "artist = track_info['album']['artists'][0]['name']\n",
    "release_date = track_info['album']['release_date']\n",
    "length = track_info['duration_ms']\n",
    "popularity = track_info['popularity']\n",
    "\n",
    "acousticness = track_features[0]['acousticness']\n",
    "danceability = track_features[0]['danceability']\n",
    "energy = track_features[0]['energy']\n",
    "instrumentalness = track_features[0]['instrumentalness']\n",
    "liveness = track_features[0]['liveness']\n",
    "loudness = track_features[0]['loudness']\n",
    "speechiness = track_features[0]['speechiness']\n",
    "tempo = track_features[0]['tempo']\n",
    "time_signature = track_features[0]['time_signature']\n",
    "\n",
    "track = [name, album, artist, release_date, length, popularity, acousticness, danceability, energy, instrumentalness,\n",
    "        liveness, loudness, speechiness, tempo, time_signature]\n",
    "\n",
    "track"
   ]
  },
  {
   "cell_type": "code",
   "execution_count": 14,
   "metadata": {},
   "outputs": [
    {
     "data": {
      "text/html": [
       "<div>\n",
       "<style scoped>\n",
       "    .dataframe tbody tr th:only-of-type {\n",
       "        vertical-align: middle;\n",
       "    }\n",
       "\n",
       "    .dataframe tbody tr th {\n",
       "        vertical-align: top;\n",
       "    }\n",
       "\n",
       "    .dataframe thead th {\n",
       "        text-align: right;\n",
       "    }\n",
       "</style>\n",
       "<table border=\"1\" class=\"dataframe\">\n",
       "  <thead>\n",
       "    <tr style=\"text-align: right;\">\n",
       "      <th></th>\n",
       "      <th>name</th>\n",
       "      <th>album</th>\n",
       "      <th>artist</th>\n",
       "      <th>release_date</th>\n",
       "      <th>length</th>\n",
       "      <th>popularity</th>\n",
       "      <th>acousticness</th>\n",
       "      <th>danceability</th>\n",
       "      <th>energy</th>\n",
       "      <th>instrumentalness</th>\n",
       "      <th>liveness</th>\n",
       "      <th>loudness</th>\n",
       "      <th>speechiness</th>\n",
       "      <th>tempo</th>\n",
       "      <th>time_signature</th>\n",
       "    </tr>\n",
       "  </thead>\n",
       "  <tbody>\n",
       "    <tr>\n",
       "      <th>0</th>\n",
       "      <td>Hotel California - 2013 Remaster</td>\n",
       "      <td>Hotel California (2013 Remaster)</td>\n",
       "      <td>Eagles</td>\n",
       "      <td>1976-12-08</td>\n",
       "      <td>391376</td>\n",
       "      <td>83</td>\n",
       "      <td>0.00574</td>\n",
       "      <td>0.579</td>\n",
       "      <td>0.508</td>\n",
       "      <td>0.000494</td>\n",
       "      <td>0.0575</td>\n",
       "      <td>-9.484</td>\n",
       "      <td>0.027</td>\n",
       "      <td>147.125</td>\n",
       "      <td>4</td>\n",
       "    </tr>\n",
       "  </tbody>\n",
       "</table>\n",
       "</div>"
      ],
      "text/plain": [
       "                               name                             album  artist  \\\n",
       "0  Hotel California - 2013 Remaster  Hotel California (2013 Remaster)  Eagles   \n",
       "\n",
       "  release_date  length  popularity  acousticness  danceability  energy  \\\n",
       "0   1976-12-08  391376          83       0.00574         0.579   0.508   \n",
       "\n",
       "   instrumentalness  liveness  loudness  speechiness    tempo  time_signature  \n",
       "0          0.000494    0.0575    -9.484        0.027  147.125               4  "
      ]
     },
     "execution_count": 14,
     "metadata": {},
     "output_type": "execute_result"
    }
   ],
   "source": [
    "#Put the list in a dataframe\n",
    "eagles_test_df = pd.DataFrame(track).T.values.tolist()\n",
    "\n",
    "eagles_final = pd.DataFrame(eagles_test_df, columns = ['name', 'album', 'artist', 'release_date', 'length', 'popularity',\n",
    "                                                      'acousticness', 'danceability', 'energy', 'instrumentalness', 'liveness',\n",
    "                                                      'loudness', 'speechiness', 'tempo', 'time_signature'])\n",
    "\n",
    "eagles_final"
   ]
  },
  {
   "cell_type": "code",
   "execution_count": null,
   "metadata": {},
   "outputs": [],
   "source": []
  }
 ],
 "metadata": {
  "kernelspec": {
   "display_name": "Python 3",
   "language": "python",
   "name": "python3"
  },
  "language_info": {
   "codemirror_mode": {
    "name": "ipython",
    "version": 3
   },
   "file_extension": ".py",
   "mimetype": "text/x-python",
   "name": "python",
   "nbconvert_exporter": "python",
   "pygments_lexer": "ipython3",
   "version": "3.8.5"
  }
 },
 "nbformat": 4,
 "nbformat_minor": 4
}
