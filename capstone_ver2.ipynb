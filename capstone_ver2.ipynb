{
 "cells": [
  {
   "cell_type": "code",
   "execution_count": 1,
   "metadata": {},
   "outputs": [],
   "source": [
    "import pandas as pd\n",
    "import matplotlib.pyplot as plt\n",
    "import seaborn as sns\n",
    "import numpy as np\n",
    "import plotly.graph_objs as go\n",
    "%matplotlib inline\n",
    "import re\n",
    "from bs4 import BeautifulSoup  \n",
    "import requests\n",
    "from urllib.request import Request, urlopen\n",
    "import config \n",
    "from twython import Twython, TwythonError\n",
    "import json\n",
    "from furl import furl\n",
    "from math import ceil"
   ]
  },
  {
   "cell_type": "code",
   "execution_count": 2,
   "metadata": {},
   "outputs": [],
   "source": [
    "import spotipy #Spotify web API\n",
    "import spotipy.oauth2 as oauth2\n",
    "from spotipy.oauth2 import SpotifyOAuth \n",
    "from spotipy.oauth2 import SpotifyClientCredentials\n",
    "import time"
   ]
  },
  {
   "cell_type": "code",
   "execution_count": null,
   "metadata": {},
   "outputs": [],
   "source": []
  },
  {
   "cell_type": "code",
   "execution_count": 4,
   "metadata": {},
   "outputs": [
    {
     "data": {
      "text/plain": [
       "{'external_urls': {'spotify': 'https://open.spotify.com/artist/0ECwFtbIWEVNwjlrfc6xoL'},\n",
       " 'followers': {'href': None, 'total': 7375458},\n",
       " 'genres': ['album rock',\n",
       "  'classic rock',\n",
       "  'country rock',\n",
       "  'folk rock',\n",
       "  'heartland rock',\n",
       "  'mellow gold',\n",
       "  'rock',\n",
       "  'soft rock',\n",
       "  'yacht rock'],\n",
       " 'href': 'https://api.spotify.com/v1/artists/0ECwFtbIWEVNwjlrfc6xoL',\n",
       " 'id': '0ECwFtbIWEVNwjlrfc6xoL',\n",
       " 'images': [{'height': 640,\n",
       "   'url': 'https://i.scdn.co/image/ab6761610000e5eb0767e116a2307495e37cd7fb',\n",
       "   'width': 640},\n",
       "  {'height': 320,\n",
       "   'url': 'https://i.scdn.co/image/ab676161000051740767e116a2307495e37cd7fb',\n",
       "   'width': 320},\n",
       "  {'height': 160,\n",
       "   'url': 'https://i.scdn.co/image/ab6761610000f1780767e116a2307495e37cd7fb',\n",
       "   'width': 160}],\n",
       " 'name': 'Eagles',\n",
       " 'popularity': 78,\n",
       " 'type': 'artist',\n",
       " 'uri': 'spotify:artist:0ECwFtbIWEVNwjlrfc6xoL'}"
      ]
     },
     "execution_count": 4,
     "metadata": {},
     "output_type": "execute_result"
    }
   ],
   "source": [
    "#Try to pull in the Eagles artist info as a test\n",
    "sp = spotipy.Spotify(auth_manager=auth_manager)\n",
    "artist_info = 'spotify:artist:0ECwFtbIWEVNwjlrfc6xoL'\n",
    "\n",
    "artist = sp.artist(artist_info)\n",
    "artist"
   ]
  },
  {
   "cell_type": "code",
   "execution_count": 5,
   "metadata": {},
   "outputs": [
    {
     "name": "stdout",
     "output_type": "stream",
     "text": [
      "Live From The Forum MMXVIII\n",
      "Long Road out of Eden\n",
      "Long Road Out Of Eden\n",
      "Hell Freezes Over (Remaster 2018)\n",
      "Eagles Live\n",
      "The Long Run (2013 Remaster)\n",
      "Hotel California (2013 Remaster)\n",
      "Hotel California (40th Anniversary Expanded Edition)\n",
      "One of These Nights (2013 Remaster)\n",
      "On the Border (2013 Remaster)\n",
      "Desperado (2013 Remaster)\n",
      "Eagles (2013 Remaster)\n"
     ]
    }
   ],
   "source": [
    "#Pull artist's album info test\n",
    "the_eagles = 'spotify:artist:0ECwFtbIWEVNwjlrfc6xoL'\n",
    "sp = spotipy.Spotify(auth_manager=auth_manager)\n",
    "\n",
    "results = sp.artist_albums(the_eagles, album_type='album')\n",
    "albums = results['items']\n",
    "while results['next']:\n",
    "    results = spotify.next(results)\n",
    "    albums.extend(results['items'])\n",
    "    \n",
    "for album in albums:\n",
    "    print(album['name'])\n",
    "\n"
   ]
  },
  {
   "cell_type": "code",
   "execution_count": 9,
   "metadata": {},
   "outputs": [
    {
     "name": "stdout",
     "output_type": "stream",
     "text": [
      "track    : Hotel California - 2013 Remaster\n",
      "cover art: https://i.scdn.co/image/ab67616d0000b2734637341b9f507521afa9a778\n",
      "\n",
      "track    : Take It Easy - 2013 Remaster\n",
      "cover art: https://i.scdn.co/image/ab67616d0000b273c13acd642ba9f6f5f127aa1b\n",
      "\n",
      "track    : Please Come Home for Christmas - 2013 Remaster\n",
      "cover art: https://i.scdn.co/image/ab67616d0000b2736d4362a2b2e39422000f8ed3\n",
      "\n",
      "track    : Life in the Fast Lane - 2013 Remaster\n",
      "cover art: https://i.scdn.co/image/ab67616d0000b2734637341b9f507521afa9a778\n",
      "\n",
      "track    : One of These Nights - 2013 Remaster\n",
      "cover art: https://i.scdn.co/image/ab67616d0000b2735d0a8e54aba5181c79593b94\n",
      "\n"
     ]
    }
   ],
   "source": [
    "#Pull all top tracks, cover art for the Eagles\n",
    "eagles_top_tracks = 'spotify:artist:0ECwFtbIWEVNwjlrfc6xoL'\n",
    "\n",
    "sp = spotipy.Spotify(auth_manager=auth_manager)\n",
    "results = sp.artist_top_tracks(eagles_top_tracks, country = 'US')\n",
    "\n",
    "for track in results['tracks'][:5]:\n",
    "    print('track    : ' + track['name'])\n",
    "    print('cover art: ' + track['album']['images'][0]['url'])\n",
    "    print()"
   ]
  },
  {
   "cell_type": "code",
   "execution_count": 10,
   "metadata": {},
   "outputs": [
    {
     "data": {
      "text/plain": [
       "[{'danceability': 0.579,\n",
       "  'energy': 0.508,\n",
       "  'key': 2,\n",
       "  'loudness': -9.484,\n",
       "  'mode': 1,\n",
       "  'speechiness': 0.027,\n",
       "  'acousticness': 0.00574,\n",
       "  'instrumentalness': 0.000494,\n",
       "  'liveness': 0.0575,\n",
       "  'valence': 0.609,\n",
       "  'tempo': 147.125,\n",
       "  'type': 'audio_features',\n",
       "  'id': '40riOy7x9W7GXjyGp4pjAv',\n",
       "  'uri': 'spotify:track:40riOy7x9W7GXjyGp4pjAv',\n",
       "  'track_href': 'https://api.spotify.com/v1/tracks/40riOy7x9W7GXjyGp4pjAv',\n",
       "  'analysis_url': 'https://api.spotify.com/v1/audio-analysis/40riOy7x9W7GXjyGp4pjAv',\n",
       "  'duration_ms': 391376,\n",
       "  'time_signature': 4}]"
      ]
     },
     "execution_count": 10,
     "metadata": {},
     "output_type": "execute_result"
    }
   ],
   "source": [
    "#Get the audio features of 'Hotel California'\n",
    "sp.audio_features('spotify:track:40riOy7x9W7GXjyGp4pjAv')"
   ]
  },
  {
   "cell_type": "code",
   "execution_count": 15,
   "metadata": {},
   "outputs": [
    {
     "data": {
      "text/plain": [
       "['Hotel California - 2013 Remaster',\n",
       " 'Hotel California (2013 Remaster)',\n",
       " 'Eagles',\n",
       " '1976-12-08',\n",
       " 391376,\n",
       " 83,\n",
       " 0.00574,\n",
       " 0.579,\n",
       " 0.508,\n",
       " 2,\n",
       " 0.000494,\n",
       " 0.0575,\n",
       " -9.484,\n",
       " 1,\n",
       " 0.027,\n",
       " 147.125,\n",
       " 4,\n",
       " 0.609]"
      ]
     },
     "execution_count": 15,
     "metadata": {},
     "output_type": "execute_result"
    }
   ],
   "source": [
    "#Get the audio features along with artist/album info\n",
    "track_info = sp.track('spotify:track:40riOy7x9W7GXjyGp4pjAv')\n",
    "track_features = sp.audio_features('spotify:track:40riOy7x9W7GXjyGp4pjAv')\n",
    "\n",
    "name = track_info['name']\n",
    "album = track_info['album']['name']\n",
    "artist = track_info['album']['artists'][0]['name']\n",
    "release_date = track_info['album']['release_date']\n",
    "length = track_info['duration_ms']\n",
    "popularity = track_info['popularity']\n",
    "\n",
    "acousticness = track_features[0]['acousticness']\n",
    "danceability = track_features[0]['danceability']\n",
    "energy = track_features[0]['energy']\n",
    "key = track_features[0]['key']\n",
    "instrumentalness = track_features[0]['instrumentalness']\n",
    "liveness = track_features[0]['liveness']\n",
    "loudness = track_features[0]['loudness']\n",
    "mode = track_features[0]['mode']\n",
    "speechiness = track_features[0]['speechiness']\n",
    "tempo = track_features[0]['tempo']\n",
    "time_signature = track_features[0]['time_signature']\n",
    "valence = track_features[0]['valence']\n",
    "\n",
    "track = [name, album, artist, release_date, length, popularity, acousticness, danceability, energy, key, instrumentalness,\n",
    "        liveness, loudness, mode, speechiness, tempo, time_signature, valence]\n",
    "\n",
    "track"
   ]
  },
  {
   "cell_type": "code",
   "execution_count": 16,
   "metadata": {},
   "outputs": [
    {
     "data": {
      "text/html": [
       "<div>\n",
       "<style scoped>\n",
       "    .dataframe tbody tr th:only-of-type {\n",
       "        vertical-align: middle;\n",
       "    }\n",
       "\n",
       "    .dataframe tbody tr th {\n",
       "        vertical-align: top;\n",
       "    }\n",
       "\n",
       "    .dataframe thead th {\n",
       "        text-align: right;\n",
       "    }\n",
       "</style>\n",
       "<table border=\"1\" class=\"dataframe\">\n",
       "  <thead>\n",
       "    <tr style=\"text-align: right;\">\n",
       "      <th></th>\n",
       "      <th>name</th>\n",
       "      <th>album</th>\n",
       "      <th>artist</th>\n",
       "      <th>release_date</th>\n",
       "      <th>length</th>\n",
       "      <th>popularity</th>\n",
       "      <th>acousticness</th>\n",
       "      <th>danceability</th>\n",
       "      <th>energy</th>\n",
       "      <th>key</th>\n",
       "      <th>instrumentalness</th>\n",
       "      <th>liveness</th>\n",
       "      <th>loudness</th>\n",
       "      <th>mode</th>\n",
       "      <th>speechiness</th>\n",
       "      <th>tempo</th>\n",
       "      <th>time_signature</th>\n",
       "      <th>valence</th>\n",
       "    </tr>\n",
       "  </thead>\n",
       "  <tbody>\n",
       "    <tr>\n",
       "      <th>0</th>\n",
       "      <td>Hotel California - 2013 Remaster</td>\n",
       "      <td>Hotel California (2013 Remaster)</td>\n",
       "      <td>Eagles</td>\n",
       "      <td>1976-12-08</td>\n",
       "      <td>391376</td>\n",
       "      <td>83</td>\n",
       "      <td>0.00574</td>\n",
       "      <td>0.579</td>\n",
       "      <td>0.508</td>\n",
       "      <td>2</td>\n",
       "      <td>0.000494</td>\n",
       "      <td>0.0575</td>\n",
       "      <td>-9.484</td>\n",
       "      <td>1</td>\n",
       "      <td>0.027</td>\n",
       "      <td>147.125</td>\n",
       "      <td>4</td>\n",
       "      <td>0.609</td>\n",
       "    </tr>\n",
       "  </tbody>\n",
       "</table>\n",
       "</div>"
      ],
      "text/plain": [
       "                               name                             album  artist  \\\n",
       "0  Hotel California - 2013 Remaster  Hotel California (2013 Remaster)  Eagles   \n",
       "\n",
       "  release_date  length  popularity  acousticness  danceability  energy  key  \\\n",
       "0   1976-12-08  391376          83       0.00574         0.579   0.508    2   \n",
       "\n",
       "   instrumentalness  liveness  loudness  mode  speechiness    tempo  \\\n",
       "0          0.000494    0.0575    -9.484     1        0.027  147.125   \n",
       "\n",
       "   time_signature  valence  \n",
       "0               4    0.609  "
      ]
     },
     "execution_count": 16,
     "metadata": {},
     "output_type": "execute_result"
    }
   ],
   "source": [
    "#Put the list in a dataframe\n",
    "eagles_test_df = pd.DataFrame(track).T.values.tolist()\n",
    "\n",
    "eagles_final = pd.DataFrame(eagles_test_df, columns = ['name', 'album', 'artist', 'release_date', 'length', 'popularity',\n",
    "                                                      'acousticness', 'danceability', 'energy', 'key', 'instrumentalness', \n",
    "                                                       'liveness','loudness', 'mode', 'speechiness', 'tempo', 'time_signature',\n",
    "                                                      'valence'])\n",
    "\n",
    "eagles_final"
   ]
  },
  {
   "cell_type": "code",
   "execution_count": 18,
   "metadata": {},
   "outputs": [
    {
     "name": "stdout",
     "output_type": "stream",
     "text": [
      "64\n",
      "['5LjSxAIKwyZvQqJ04ZQ0Da', '6epn3r7S14KUqlReYr77hA', '0WaaQTWL3OmWeuN4vKTHaF', '0kv8hQMkkfBlJxHTBIUvhP', '4G8gkOterJn0Ywt6uhqbhp', '1CmUZGtH29Kx36C1Hleqlz', '5R8dQOPq8haW94K7mgERlO', '6ol4ZSifr7r3Lb2a9L5ZAB', '32OlwWuMpZ6b0aN2RZOeMS', '3sAIY2jtHpUHKfwDSSVgMM', '2dLLR6qlu5UJ5gk0dKz0h3', '0ifSeVGUr7py5GggttDhXw', '6rPO02ozF3bM7NnOV4h6s2', '4lCv7b86sLynZbXhfScfm2', '6GkTKjv1XbFVdI2D8vvDPu', '15JINEqzVMv3SvJTAXAKED', '5PUvinSo4MNqW7vmomGRS7', '4sWboVW4CxZlb77J5Ke6UR', '5y1jZxXIpECpclpbA76zVm', '6sy3LkhNFjJWlaeSMNwQ62', '7BKLCZ1jbUBVqRi2FVlTVw', '0i5el041vd6nxrGEU8QRxy', '5jrdCoLpJSvHHorevXBATy', '7BqBn9nzAq8spo5e7cZ0dJ', '0FE9t6xYkqWXU2ahLh6D8X', '34gCuhDGsG4bRPIf9bb02f', '7a86XRg84qjasly9f6bPSD', '1EzrEOXmMH3G43AXT1y7pA', '7fBv7CLKzipRk6EC6TWHOB', '2JzZzZUQj3Qff7wapcbKjc', '6DCZcSspjsKoFjzjrWoCdn', '3a1lNhkSLSkpJE4MSHpDu9', '2YpeDb67231RjR0MgVLzsG', '2cPQLmptPM73agMHvCy47a', '0tgVpDi06FyKpA1z0VMD4v', '5xTtaWoae3wi06K5WfVUUH', '60nZcImufyMA1MKQY3dcCH', '7iDa6hUg2VgEL1o1HjmfBn', '1WWR7F24UbFi06sfvcnvD8', '7w87IxuO7BDcJ3YUqCyMTT', '3U4isOIWM3VvDubwSI3y7a', '5ygDXis42ncn6kYG14lEVG', '0e7ipj03S05BNilyu5bRzt', '3KkXRkHbMCARz0aVfEt68P', '5Nm9ERjJZ5oyfXZTECKmRt', '5Q0Nhxo0l2bP3pNjpGJwV1', '2xLMifQCjDGFmkHkpNLD9h', '6KBYefIoo7KydImq1uUQlL', '6l8GvAyoUZwWDgF1e4822w', '09CtPGIpYB4BrO8qb1RGsF', '4HlFJV71xXKIGcU3kRyttv', '0CAfXk7DXMnon4gLudAp7J', '3CRDbSIZ4r5MsZ0YwxuEkn', '4wCmqSrbyCgxEXROQE6vtV', '0KKkJNfGyhkQ5aFogxQAPU', '0nJW01T7XtvILxQgC5J7Wh', '7ueP5u2qkdZbIPN2YA6LR0', '64QftS2rGzpynevjuCsJXW', '1rfofaqEpACxVEHIZBJe6W', '3ee8Jmje8o58CHK66QrVC2', '3hlksXnvbKogFdPbpO9vel', '5yY9lUy8nbvjM1Uyo1Uqoc', '04GKRudrMjdPdX10873SAM', '0bYg9bo50gSsH3LtXe2SQn']\n"
     ]
    }
   ],
   "source": [
    "#Obtain the track IDs from the RIAA Diamond singles playlist\n",
    "def getTrackIDs(user, playlist_id):\n",
    "    track_ids = []\n",
    "    playlist = sp.user_playlist(user, playlist_id)\n",
    "    for item in playlist['tracks']['items']:\n",
    "        track = item['track']\n",
    "        track_ids.append(track['id'])\n",
    "    return track_ids\n",
    "track_ids = getTrackIDs('spotify', 'spotify:playlist:5fIlCztM3ve6IKSwBelHpU') #This is the copied URI from the Spotify playlist\n",
    "\n",
    "print(len(track_ids))\n",
    "print(track_ids)"
   ]
  },
  {
   "cell_type": "code",
   "execution_count": 19,
   "metadata": {},
   "outputs": [],
   "source": [
    "#Function to get track features\n",
    "def getTrackFeatures(id):\n",
    "    track_info = sp.track(id)\n",
    "    features_info = sp.audio_features(id)\n",
    "    \n",
    "#Get track info\n",
    "    name = track_info['name']\n",
    "    album = track_info['album']['name']\n",
    "    artist = track_info['album']['artists'][0]['name']\n",
    "    release_date = track_info['album']['release_date']\n",
    "    length = track_info['duration_ms']\n",
    "    popularity = track_info['popularity']\n",
    "    \n",
    "#Get track features \n",
    "    acousticness = features_info[0]['acousticness']\n",
    "    danceability = features_info[0]['danceability']\n",
    "    energy = features_info[0]['energy']\n",
    "    key = features_info[0]['key']\n",
    "    instrumentalness = features_info[0]['instrumentalness']\n",
    "    liveness = features_info[0]['liveness']\n",
    "    loudness = features_info[0]['loudness']\n",
    "    mode = features_info[0]['mode']\n",
    "    speechiness = features_info[0]['speechiness']\n",
    "    tempo = features_info[0]['tempo']\n",
    "    time_signature = features_info[0]['time_signature']\n",
    "    valence = features_info[0]['valence']\n",
    "    \n",
    "    track_data = [name, album, artist, release_date, length, popularity, acousticness, danceability, energy, key, instrumentalness,\n",
    "                 liveness, loudness, mode, speechiness, tempo, time_signature, valence]\n",
    "    return track_data\n",
    "    "
   ]
  },
  {
   "cell_type": "code",
   "execution_count": null,
   "metadata": {},
   "outputs": [],
   "source": []
  }
 ],
 "metadata": {
  "kernelspec": {
   "display_name": "Python 3",
   "language": "python",
   "name": "python3"
  },
  "language_info": {
   "codemirror_mode": {
    "name": "ipython",
    "version": 3
   },
   "file_extension": ".py",
   "mimetype": "text/x-python",
   "name": "python",
   "nbconvert_exporter": "python",
   "pygments_lexer": "ipython3",
   "version": "3.8.5"
  }
 },
 "nbformat": 4,
 "nbformat_minor": 4
}
